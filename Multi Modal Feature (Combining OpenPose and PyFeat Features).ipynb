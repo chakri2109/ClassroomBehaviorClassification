{
 "cells": [
  {
   "cell_type": "code",
   "execution_count": 38,
   "id": "2f00b2c7",
   "metadata": {},
   "outputs": [],
   "source": [
    "import os\n",
    "import pandas as pd\n",
    "import numpy as np"
   ]
  },
  {
   "cell_type": "code",
   "execution_count": 39,
   "id": "1e17cf71",
   "metadata": {},
   "outputs": [],
   "source": [
    "face_features_path = r'D:\\Body Pose Recognition\\Dataset version 7 26-04-2022\\train csv pyfeat'\n",
    "body_features_path = r'D:\\Body Pose Recognition\\Dataset version 7 26-04-2022\\train csv openpose'\n",
    "multi_features_path = r'D:\\Body Pose Recognition\\Dataset version 7 26-04-2022\\train csv multimodal'\n",
    "num_features = 94\n",
    "\n",
    "try:\n",
    "    os.mkdir(multi_features_path)\n",
    "except:\n",
    "    print(\"Folder already exist\")"
   ]
  },
  {
   "cell_type": "code",
   "execution_count": 40,
   "id": "27caae7c",
   "metadata": {},
   "outputs": [],
   "source": [
    "def feature_reader(class_):\n",
    "    data = []\n",
    "    face_class_path = os.path.join(face_features_path, class_)\n",
    "    body_class_path = os.path.join(body_features_path, class_)\n",
    "    face_data = set(os.listdir(face_class_path))\n",
    "    body_data = set(os.listdir(body_class_path))\n",
    "    multi_data = face_data.intersection(body_data)\n",
    "    face_remaining = face_data - multi_data\n",
    "    body_remaining = body_data - multi_data\n",
    "    \n",
    "    # reading the data common in both face and body\n",
    "    for file_name in multi_data:\n",
    "        input_features = np.ones(num_features)*(1e-6)\n",
    "        face_df = pd.read_csv(os.path.join(face_class_path, file_name), sep=',', header=None)\n",
    "        body_df = pd.read_csv(os.path.join(body_class_path, file_name), sep=',', header=None)\n",
    "        input_features[:71] = body_df.values[0, :]\n",
    "        input_features[71:] = face_df.values[0, :]\n",
    "        data.append(input_features)\n",
    "    \n",
    "    \n",
    "    # reading the data present in only face\n",
    "    for file_name in face_remaining:\n",
    "        input_features = np.ones(num_features)*(1e-6)\n",
    "        face_df = pd.read_csv(os.path.join(face_class_path, file_name), sep=',', header=None)\n",
    "        input_features[71:] = face_df.values[0, :]\n",
    "        data.append(input_features)\n",
    "        \n",
    "    # reading the data present in only body\n",
    "    for file_name in body_remaining:\n",
    "        input_features = np.ones(num_features)*(1e-6)\n",
    "        body_df = pd.read_csv(os.path.join(body_class_path, file_name), sep=',', header=None)\n",
    "        input_features[:71] = body_df.values[0, :]\n",
    "        data.append(input_features)\n",
    "    \n",
    "    return data\n",
    "\n",
    "base_folder = multi_features_path\n",
    "output_classes = ['neg', 'pos']\n",
    "class_index = {'pos' : 1, 'neg': 0}\n",
    "\n",
    "for class_ in output_classes:\n",
    "    behavior_index = class_index[class_]\n",
    "    data = feature_reader(class_)\n",
    "        \n",
    "    df = pd.DataFrame(data)\n",
    "    df['class'] = behavior_index\n",
    "    df.to_csv(multi_features_path + '\\\\' + class_ + '.csv', sep=',',index=False, header=False)"
   ]
  },
  {
   "cell_type": "code",
   "execution_count": null,
   "id": "49b3db61",
   "metadata": {},
   "outputs": [],
   "source": []
  }
 ],
 "metadata": {
  "kernelspec": {
   "display_name": "Python 3 (ipykernel)",
   "language": "python",
   "name": "python3"
  },
  "language_info": {
   "codemirror_mode": {
    "name": "ipython",
    "version": 3
   },
   "file_extension": ".py",
   "mimetype": "text/x-python",
   "name": "python",
   "nbconvert_exporter": "python",
   "pygments_lexer": "ipython3",
   "version": "3.7.11"
  }
 },
 "nbformat": 4,
 "nbformat_minor": 5
}
